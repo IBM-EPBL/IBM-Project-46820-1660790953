{
  "cells": [
    {
      "cell_type": "code",
      "source": [
        "print(7**4)"
      ],
      "metadata": {
        "id": "WzFfJF3yVqGt",
        "outputId": "7194c19e-f9fa-4b5e-c0ee-bc392b2c6493",
        "colab": {
          "base_uri": "https://localhost:8080/"
        }
      },
      "execution_count": null,
      "outputs": [
        {
          "output_type": "stream",
          "name": "stdout",
          "text": [
            "2401\n"
          ]
        }
      ]
    },
    {
      "cell_type": "code",
      "source": [
        "s = \"Hi there Sam\"\n",
        "lst = s.split(' ')\n",
        "\n",
        "print(lst)"
      ],
      "metadata": {
        "id": "uSmSwB6cVqeM",
        "outputId": "ba6c4c1b-64d5-45dd-bf5b-a29e445f4072",
        "colab": {
          "base_uri": "https://localhost:8080/"
        }
      },
      "execution_count": null,
      "outputs": [
        {
          "output_type": "stream",
          "name": "stdout",
          "text": [
            "['Hi', 'there', 'Sam']\n"
          ]
        }
      ]
    },
    {
      "cell_type": "code",
      "source": [
        "planet = \"Earth\"\n",
        "diameter = 12742\n",
        "print( 'The diameter of {} is {} kilometers.' .format(planet,diameter));"
      ],
      "metadata": {
        "id": "s8Xs6O78VqjM",
        "outputId": "47d18638-ab89-465d-f57e-cb740fb1d840",
        "colab": {
          "base_uri": "https://localhost:8080/"
        }
      },
      "execution_count": null,
      "outputs": [
        {
          "output_type": "stream",
          "name": "stdout",
          "text": [
            "The diameter of Earth is 12742 kilometers.\n"
          ]
        }
      ]
    },
    {
      "cell_type": "code",
      "source": [
        "lst = [1,2,[3,4],[5,[100,200,['hello']],23,11],1,7]"
      ],
      "metadata": {
        "id": "C0qft2G-Vqm1"
      },
      "execution_count": null,
      "outputs": []
    },
    {
      "cell_type": "code",
      "source": [
        "lst = [1,2,[3,4],[5,[100,200,['hello']],23,11],1,7]\n",
        "a=lst[3][1][2];\n",
        "print(a)\n"
      ],
      "metadata": {
        "id": "95s48oe7VqqV",
        "outputId": "76e433f8-4e7a-4432-cb07-548b1cf848b8",
        "colab": {
          "base_uri": "https://localhost:8080/"
        }
      },
      "execution_count": null,
      "outputs": [
        {
          "output_type": "stream",
          "name": "stdout",
          "text": [
            "['hello']\n"
          ]
        }
      ]
    },
    {
      "cell_type": "code",
      "source": [
        "d = {'k1':[1,2,3,{'tricky':['oh','man','inception',{'target':[1,2,3,'hello']}]}]}"
      ],
      "metadata": {
        "id": "_RjJa84aVqtn"
      },
      "execution_count": null,
      "outputs": []
    },
    {
      "cell_type": "code",
      "source": [
        "d = {'k1':[1,2,3,{'tricky':['oh','man','inception',{'target':[1,2,3,'hello']}]}]}\n",
        "print(d['k1'][3][\"tricky\"][3]['target'][3])"
      ],
      "metadata": {
        "id": "PUqeE5fFWjXb",
        "outputId": "6daafa0c-c9bf-4f50-d1ff-0bd337f87bfa",
        "colab": {
          "base_uri": "https://localhost:8080/"
        }
      },
      "execution_count": null,
      "outputs": [
        {
          "output_type": "stream",
          "name": "stdout",
          "text": [
            "hello\n"
          ]
        }
      ]
    },
    {
      "cell_type": "code",
      "source": [
        "# Tuple is immutable whereas list is  mutable.\n",
        "#Tuples operations are safe.\n",
        "#Tuples consumes less memory whereas list consumes more memory.\n"
      ],
      "metadata": {
        "id": "UuIX22ZmWjcZ"
      },
      "execution_count": null,
      "outputs": []
    },
    {
      "cell_type": "code",
      "source": [
        "def domainGet(email):\n",
        "    print(\"Your domain is: \" + email.split('@')[-1])\n",
        "\n",
        "email = input(\"Please enter your email: >\")\n",
        "domainGet(email)\n"
      ],
      "metadata": {
        "id": "d13dmoVOWjhM",
        "outputId": "1d2fc13b-b683-4f23-d8dc-de8224e8b6c9",
        "colab": {
          "base_uri": "https://localhost:8080/"
        }
      },
      "execution_count": null,
      "outputs": [
        {
          "output_type": "stream",
          "name": "stdout",
          "text": [
            "Please enter your email: >rizwanalavudeen88@gmail.com\n",
            "Your domain is: gmail.com\n"
          ]
        }
      ]
    },
    {
      "cell_type": "code",
      "source": [
        "def findDog(st):\n",
        "    if 'dog' in st.lower():\n",
        "        print(\"True\")\n",
        "    else:\n",
        "        print(\"False\")\n",
        "\n",
        "st = \"Is there a dog here?\"\n",
        "findDog(st)\n"
      ],
      "metadata": {
        "id": "NkBgUPkxWjkx",
        "outputId": "3d106dc1-2d14-43ae-bfe9-5608cd48c33e",
        "colab": {
          "base_uri": "https://localhost:8080/"
        }
      },
      "execution_count": null,
      "outputs": [
        {
          "output_type": "stream",
          "name": "stdout",
          "text": [
            "True\n"
          ]
        }
      ]
    },
    {
      "cell_type": "code",
      "source": [
        "value = 'This dog runs faster than the other dog dude!';\n",
        "\n",
        "def countdogs(value):\n",
        "    count = 0\n",
        "    for word in value.lower().split():\n",
        "        if word == 'dog':\n",
        "            count = count + 1\n",
        "            print(count)\n",
        "\n",
        "countdogs(value)"
      ],
      "metadata": {
        "id": "HSjlL5RjWjoP",
        "outputId": "fac2d20a-baab-43b0-de83-2b4855b89194",
        "colab": {
          "base_uri": "https://localhost:8080/"
        }
      },
      "execution_count": null,
      "outputs": [
        {
          "output_type": "stream",
          "name": "stdout",
          "text": [
            "1\n",
            "2\n"
          ]
        }
      ]
    },
    {
      "cell_type": "code",
      "source": [
        "def caught_speeding(speed, is_birthday):\n",
        "    \n",
        "    if is_birthday:\n",
        "        speeding = speed - 5\n",
        "    else:\n",
        "        speeding = speed\n",
        "    \n",
        "    if speeding > 80:\n",
        "        return 'Big Ticket'\n",
        "    elif speeding > 60:\n",
        "        return 'Small Ticket'\n",
        "    else:\n",
        "        return 'No Ticket'"
      ],
      "metadata": {
        "id": "ndFoHtnzWjrT"
      },
      "execution_count": null,
      "outputs": []
    },
    {
      "cell_type": "code",
      "source": [
        "caught_speeding(81,False)"
      ],
      "metadata": {
        "id": "paUnO_7rWjuZ",
        "outputId": "fd77f01b-c021-4734-e745-47ab4b4929cc",
        "colab": {
          "base_uri": "https://localhost:8080/",
          "height": 35
        }
      },
      "execution_count": null,
      "outputs": [
        {
          "output_type": "execute_result",
          "data": {
            "text/plain": [
              "'Big Ticket'"
            ],
            "application/vnd.google.colaboratory.intrinsic+json": {
              "type": "string"
            }
          },
          "metadata": {},
          "execution_count": 15
        }
      ]
    },
    {
      "cell_type": "code",
      "source": [
        "caught_speeding(81,True)"
      ],
      "metadata": {
        "id": "6TfyGvs_Wjx_",
        "outputId": "0fd6f19a-dd0b-4ef4-dff9-f9ee3d6f1692",
        "colab": {
          "base_uri": "https://localhost:8080/",
          "height": 35
        }
      },
      "execution_count": null,
      "outputs": [
        {
          "output_type": "execute_result",
          "data": {
            "text/plain": [
              "'Small Ticket'"
            ],
            "application/vnd.google.colaboratory.intrinsic+json": {
              "type": "string"
            }
          },
          "metadata": {},
          "execution_count": 16
        }
      ]
    },
    {
      "cell_type": "code",
      "source": [
        "emp_name = ['Zenith','Yusra','Saba','Zoya','Haada']\n",
        "emp_salary = [25000,15700,50000,8600,14320]\n",
        "for emp_name, emp_salary in zip(emp_name, emp_salary):\n",
        "\n",
        "    print(emp_name, emp_salary)"
      ],
      "metadata": {
        "id": "yYLZvM5hWj2B",
        "outputId": "00dca8f3-6a08-4967-83ae-693cbe13c886",
        "colab": {
          "base_uri": "https://localhost:8080/"
        }
      },
      "execution_count": null,
      "outputs": [
        {
          "output_type": "stream",
          "name": "stdout",
          "text": [
            "Zenith 25000\n",
            "Yusra 15700\n",
            "Saba 50000\n",
            "Zoya 8600\n",
            "Haada 14320\n"
          ]
        }
      ]
    },
    {
      "cell_type": "code",
      "source": [
        "dict1 = {\"empid\": '1', \"empname\": 'saba', \"basicpay\": '50000'}\n",
        "dict2 = {\"deptname\": 'AI', \"deptid\": '432'}\n",
        "\n",
        "print({**dict1, **dict2})"
      ],
      "metadata": {
        "id": "4WCn-NcLXZio",
        "outputId": "c0771c98-b148-4ce3-a7f8-78cdc674eb19",
        "colab": {
          "base_uri": "https://localhost:8080/"
        }
      },
      "execution_count": null,
      "outputs": [
        {
          "output_type": "stream",
          "name": "stdout",
          "text": [
            "{'empid': '1', 'empname': 'saba', 'basicpay': '50000', 'deptname': 'AI', 'deptid': '432'}\n"
          ]
        }
      ]
    }
  ],
  "metadata": {
    "colab": {
      "collapsed_sections": [],
      "toc_visible": true,
      "provenance": []
    },
    "kernelspec": {
      "display_name": "Python 3",
      "name": "python3"
    }
  },
  "nbformat": 4,
  "nbformat_minor": 0
}